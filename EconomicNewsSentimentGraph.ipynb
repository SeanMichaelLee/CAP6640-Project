{
 "cells": [
  {
   "cell_type": "code",
   "execution_count": 69,
   "metadata": {},
   "outputs": [],
   "source": [
    "import numpy as np\n",
    "from newsapi import NewsApiClient\n",
    "import matplotlib.pyplot as plt\n",
    "import json\n",
    "import random\n",
    "from datetime import date, timedelta, datetime\n",
    "import seaborn\n",
    "import time\n",
    "import pandas"
   ]
  },
  {
   "cell_type": "code",
   "execution_count": 71,
   "metadata": {},
   "outputs": [],
   "source": [
    "dji_data = pandas.read_csv('data/DJI.csv')"
   ]
  },
  {
   "cell_type": "code",
   "execution_count": 40,
   "metadata": {},
   "outputs": [],
   "source": [
    "api_key = 'e9436ecde682495cb27258cf59eefcb0'\n",
    "\n",
    "# Init\n",
    "newsapi = NewsApiClient(api_key=api_key)"
   ]
  },
  {
   "cell_type": "code",
   "execution_count": 33,
   "metadata": {},
   "outputs": [],
   "source": [
    "def get_article(query, source, date):\n",
    "    api_response = newsapi.get_everything(q=query,\n",
    "                                      sources=source,\n",
    "                                      from_param=date,\n",
    "                                      to=date,\n",
    "                                      language='en',\n",
    "                                      sort_by='relevancy',\n",
    "                                      page=1)\n",
    "    articles = api_response['articles']\n",
    "    num_articles = len(articles) > 0\n",
    "    assert num_articles > 0\n",
    "    return articles[random.randint(0, num_articles)]"
   ]
  },
  {
   "cell_type": "code",
   "execution_count": 53,
   "metadata": {},
   "outputs": [
    {
     "data": {
      "text/plain": [
       "{'source': {'id': 'reuters', 'name': 'Reuters'},\n",
       " 'author': 'Jonnelle Marte',\n",
       " 'title': 'Fed policymakers working to limit damage as pandemic puts U.S. economy on pause',\n",
       " 'description': 'The U.S. economy was on a strong footing before the coronavirus pandemic and Federal Reserve officials are working to help the economy rebound quickly once businesses that were shuttered because of the virus begin to reopen, two policymakers said Friday.',\n",
       " 'url': 'https://www.reuters.com/article/us-health-coronavirus-usa-fed-idUSKCN21S21G',\n",
       " 'urlToImage': 'https://s3.reutersmedia.net/resources/r/?m=02&d=20200410&t=2&i=1514711056&w=1200&r=LYNXNPEG391B6',\n",
       " 'publishedAt': '2020-04-10T19:58:05Z',\n",
       " 'content': '(Reuters) - The U.S. economy was on a strong footing before the coronavirus pandemic and Federal Reserve officials are working to help the economy rebound quickly once businesses that were shuttered because of the virus begin to reopen, two policymakers said … [+2867 chars]'}"
      ]
     },
     "execution_count": 53,
     "metadata": {},
     "output_type": "execute_result"
    }
   ],
   "source": [
    "get_article('economy', 'reuters', '2020-04-10')"
   ]
  },
  {
   "cell_type": "code",
   "execution_count": 36,
   "metadata": {},
   "outputs": [],
   "source": [
    "def get_sentiment_prediction(sentence):\n",
    "    return random.randint(0, 1)"
   ]
  },
  {
   "cell_type": "code",
   "execution_count": 192,
   "metadata": {},
   "outputs": [],
   "source": [
    "def create_graph(query, source, from_date, to_date):\n",
    "    current_date = datetime.strptime(from_date, '%Y-%m-%d').date()\n",
    "    end_date = datetime.strptime(to_date, '%Y-%m-%d').date()\n",
    "    dates = []\n",
    "    sentiment = []\n",
    "    dji_values = []\n",
    "    \n",
    "    while current_date <= end_date:\n",
    "        close_value = dji_data.loc[dji_data['Date'] == str(current_date)]['Close']\n",
    "        \n",
    "        if len(close_value) > 0:\n",
    "            dji_values.append(float(close_value))\n",
    "        else:\n",
    "            dji_values.append(dji_values[-1])\n",
    "        \n",
    "        #article = get_article(query, source, str(current_date))\n",
    "        dates.append(current_date)\n",
    "        sentiment.append(get_sentiment_prediction('fake_news'))\n",
    "        current_date += timedelta(1)\n",
    "        \n",
    "    plt.plot(dates, dji_values)\n",
    "    plt.gcf().autofmt_xdate()\n",
    "    \n",
    "    for i in range(len(sentiment)):\n",
    "        if sentiment[i] == 1:\n",
    "             plt.axvline(pandas.Timestamp(str(dates[i])), color='g', linewidth=9, alpha=0.1)\n",
    "        else:\n",
    "             plt.axvline(pandas.Timestamp(str(dates[i])), color='r', linewidth=9, alpha=0.1)\n",
    "    \n",
    "    plt.show()"
   ]
  },
  {
   "cell_type": "code",
   "execution_count": 193,
   "metadata": {},
   "outputs": [
    {
     "data": {
      "image/png": "[encoded data removed]",
      "text/plain": [
       "<Figure size 432x288 with 1 Axes>"
      ]
     },
     "metadata": {
      "needs_background": "light"
     },
     "output_type": "display_data"
    }
   ],
   "source": [
    "create_graph('economy', 'reuters', '2020-03-10', '2020-04-10')"
   ]
  }
 ],
 "metadata": {
  "kernelspec": {
   "display_name": "Python 3",
   "language": "python",
   "name": "python3"
  },
  "language_info": {
   "codemirror_mode": {
    "name": "ipython",
    "version": 3
   },
   "file_extension": ".py",
   "mimetype": "text/x-python",
   "name": "python",
   "nbconvert_exporter": "python",
   "pygments_lexer": "ipython3",
   "version": "3.8.1"
  }
 },
 "nbformat": 4,
 "nbformat_minor": 4
}
